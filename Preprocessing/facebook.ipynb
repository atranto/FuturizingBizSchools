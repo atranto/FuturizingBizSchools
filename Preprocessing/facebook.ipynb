{
 "cells": [
  {
   "cell_type": "code",
   "execution_count": null,
   "metadata": {
    "collapsed": true
   },
   "outputs": [],
   "source": [
    "import pandas as pd\n",
    "import warnings\n",
    "warnings.filterwarnings('ignore')\n",
    "# $ pip install googletrans\n",
    "from googletrans import Translator\n",
    "translator = Translator()\n",
    "\n",
    "import cx_Oracle\n",
    "db = cx_Oracle.connect('FBSADMIN', 'FA8skhg6', 'um003089.unimaas.nl:1521/FBSDB')\n",
    "\n",
    "def detect_language(x):\n",
    "    try:\n",
    "        return str(translator.detect(x.read())).split(',')[0].split('=')[1]\n",
    "    except:\n",
    "        return 'No language detected.'\n",
    "\n",
    "def translate(y):\n",
    "    try:\n",
    "        return str(translator.translate(y.read())).split(',')[2].split('=')[1]\n",
    "    except:\n",
    "        return 'No translation.'\n",
    "\n",
    "def change_time(x):\n",
    "    s = list(x)\n",
    "    s[10] = ' '\n",
    "    del s[-5:]\n",
    "    return \"\".join(s)\n",
    "\n",
    "# Facebook comments\n",
    "df = pd.read_sql(\"select FACEBOOK_COMMENTSPK,CREATED_TIME,MESSAGE from facebook_comments_edited\",db)\n",
    "df['MESSAGELANGUAGE'] = df['MESSAGE'].apply(lambda x: detect_language(x))\n",
    "df['TRANSLATION'] = df['MESSAGE'].apply(lambda x: translate(x))\n",
    "df.drop('MESSAGE',axis=1,inplace = True)\n",
    "df['CREATED_TIME'] = df['CREATED_TIME'].apply(lambda x: change_time(x))\n",
    "df.to_csv('Facebook comments (edited).csv', index_label=False)\n",
    "\n",
    "# Facebook posts\n",
    "df2 = pd.read_sql(\"select FB_POST_PK,CREATED_TIME,MESSAGE from FACEBOOK_POSTS_EDITED\",db)\n",
    "df2['MESSAGELANGUAGE'] =df2['MESSAGE'].apply(lambda x: detect_language(x))\n",
    "df2['TRANSLATION'] = df2['MESSAGE'].apply(lambda x: translate(x))\n",
    "df2.drop('MESSAGE',axis=1,inplace = True)\n",
    "df2['CREATED_TIME'] = df2['CREATED_TIME'].apply(lambda x: change_time(x))\n",
    "df2.to_csv('Facebook posts (edited).csv', index_label=False)"
   ]
  },
  {
   "cell_type": "code",
   "execution_count": 2,
   "metadata": {
    "collapsed": true
   },
   "outputs": [],
   "source": [
    "# Test\n",
    "\n",
    "import pandas as pd\n",
    "import warnings\n",
    "warnings.filterwarnings('ignore')\n",
    "from langdetect import detect\n",
    "\n",
    "import cx_Oracle\n",
    "db = cx_Oracle.connect('FBSADMIN', 'FA8skhg6', 'um003089.unimaas.nl:1521/FBSDB')\n",
    "\n",
    "def detect_language(x):\n",
    "    try:\n",
    "        return detect(x.read())\n",
    "    except:\n",
    "        return 'No language detected.'\n",
    "\n",
    "def change_time(x):\n",
    "    s = list(x)\n",
    "    s[10] = ' '\n",
    "    del s[-5:]\n",
    "    return \"\".join(s)"
   ]
  },
  {
   "cell_type": "code",
   "execution_count": 3,
   "metadata": {
    "collapsed": true
   },
   "outputs": [],
   "source": [
    "# Facebook comments\n",
    "df = pd.read_sql(\"select FACEBOOK_COMMENTSPK,CREATED_TIME,MESSAGE,MESSAGELANGUAGE from facebook_comments_edited\",db)"
   ]
  },
  {
   "cell_type": "code",
   "execution_count": 4,
   "metadata": {},
   "outputs": [
    {
     "data": {
      "text/html": [
       "<div>\n",
       "<style>\n",
       "    .dataframe thead tr:only-child th {\n",
       "        text-align: right;\n",
       "    }\n",
       "\n",
       "    .dataframe thead th {\n",
       "        text-align: left;\n",
       "    }\n",
       "\n",
       "    .dataframe tbody tr th {\n",
       "        vertical-align: top;\n",
       "    }\n",
       "</style>\n",
       "<table border=\"1\" class=\"dataframe\">\n",
       "  <thead>\n",
       "    <tr style=\"text-align: right;\">\n",
       "      <th></th>\n",
       "      <th>FACEBOOK_COMMENTSPK</th>\n",
       "      <th>CREATED_TIME</th>\n",
       "      <th>MESSAGE</th>\n",
       "      <th>MESSAGELANGUAGE</th>\n",
       "    </tr>\n",
       "  </thead>\n",
       "  <tbody>\n",
       "    <tr>\n",
       "      <th>0</th>\n",
       "      <td>149</td>\n",
       "      <td>2017-06-11T02:50:24+0000</td>\n",
       "      <td>Felicitaciones al equipo ganador!!#HackatoNave...</td>\n",
       "      <td>None</td>\n",
       "    </tr>\n",
       "    <tr>\n",
       "      <th>1</th>\n",
       "      <td>150</td>\n",
       "      <td>2017-06-11T07:16:36+0000</td>\n",
       "      <td>Felicitaciones !!!!!!</td>\n",
       "      <td>None</td>\n",
       "    </tr>\n",
       "    <tr>\n",
       "      <th>2</th>\n",
       "      <td>151</td>\n",
       "      <td>2017-06-11T18:58:12+0000</td>\n",
       "      <td>?????</td>\n",
       "      <td>None</td>\n",
       "    </tr>\n",
       "    <tr>\n",
       "      <th>3</th>\n",
       "      <td>152</td>\n",
       "      <td>2017-06-12T15:30:22+0000</td>\n",
       "      <td>Amazing</td>\n",
       "      <td>None</td>\n",
       "    </tr>\n",
       "    <tr>\n",
       "      <th>4</th>\n",
       "      <td>153</td>\n",
       "      <td>2017-06-10T22:41:49+0000</td>\n",
       "      <td>Espectacular el cierre del Hakaton 2017!!!!!! ...</td>\n",
       "      <td>None</td>\n",
       "    </tr>\n",
       "  </tbody>\n",
       "</table>\n",
       "</div>"
      ],
      "text/plain": [
       "   FACEBOOK_COMMENTSPK              CREATED_TIME  \\\n",
       "0                  149  2017-06-11T02:50:24+0000   \n",
       "1                  150  2017-06-11T07:16:36+0000   \n",
       "2                  151  2017-06-11T18:58:12+0000   \n",
       "3                  152  2017-06-12T15:30:22+0000   \n",
       "4                  153  2017-06-10T22:41:49+0000   \n",
       "\n",
       "                                             MESSAGE MESSAGELANGUAGE  \n",
       "0  Felicitaciones al equipo ganador!!#HackatoNave...            None  \n",
       "1                              Felicitaciones !!!!!!            None  \n",
       "2                                              ?????            None  \n",
       "3                                            Amazing            None  \n",
       "4  Espectacular el cierre del Hakaton 2017!!!!!! ...            None  "
      ]
     },
     "execution_count": 4,
     "metadata": {},
     "output_type": "execute_result"
    }
   ],
   "source": [
    "df_test = df.head(5).copy()\n",
    "df_test"
   ]
  },
  {
   "cell_type": "code",
   "execution_count": 30,
   "metadata": {},
   "outputs": [
    {
     "data": {
      "text/plain": [
       "'Good morning.'"
      ]
     },
     "execution_count": 30,
     "metadata": {},
     "output_type": "execute_result"
    }
   ],
   "source": [
    "from googletrans import Translator\n",
    "translator = Translator()\n",
    "str(translator.translate('안녕하세요.')).split(',')[2].split('=')[1]"
   ]
  },
  {
   "cell_type": "code",
   "execution_count": 25,
   "metadata": {},
   "outputs": [
    {
     "data": {
      "text/plain": [
       "'ko'"
      ]
     },
     "execution_count": 25,
     "metadata": {},
     "output_type": "execute_result"
    }
   ],
   "source": [
    "str(translator.detect('이 문장은 한글로 쓰여졌습니다.')).split(',')[0].split('=')[1]"
   ]
  },
  {
   "cell_type": "code",
   "execution_count": 34,
   "metadata": {},
   "outputs": [
    {
     "data": {
      "text/html": [
       "<div>\n",
       "<style>\n",
       "    .dataframe thead tr:only-child th {\n",
       "        text-align: right;\n",
       "    }\n",
       "\n",
       "    .dataframe thead th {\n",
       "        text-align: left;\n",
       "    }\n",
       "\n",
       "    .dataframe tbody tr th {\n",
       "        vertical-align: top;\n",
       "    }\n",
       "</style>\n",
       "<table border=\"1\" class=\"dataframe\">\n",
       "  <thead>\n",
       "    <tr style=\"text-align: right;\">\n",
       "      <th></th>\n",
       "      <th>FACEBOOK_COMMENTSPK</th>\n",
       "      <th>CREATED_TIME</th>\n",
       "      <th>MESSAGE</th>\n",
       "      <th>MESSAGELANGUAGE</th>\n",
       "    </tr>\n",
       "  </thead>\n",
       "  <tbody>\n",
       "    <tr>\n",
       "      <th>0</th>\n",
       "      <td>149</td>\n",
       "      <td>2017-06-11T02:50:24+0000</td>\n",
       "      <td>Felicitaciones al equipo ganador!!#HackatoNave...</td>\n",
       "      <td>None</td>\n",
       "    </tr>\n",
       "    <tr>\n",
       "      <th>1</th>\n",
       "      <td>150</td>\n",
       "      <td>2017-06-11T07:16:36+0000</td>\n",
       "      <td>Felicitaciones !!!!!!</td>\n",
       "      <td>None</td>\n",
       "    </tr>\n",
       "    <tr>\n",
       "      <th>2</th>\n",
       "      <td>151</td>\n",
       "      <td>2017-06-11T18:58:12+0000</td>\n",
       "      <td>?????</td>\n",
       "      <td>None</td>\n",
       "    </tr>\n",
       "    <tr>\n",
       "      <th>3</th>\n",
       "      <td>152</td>\n",
       "      <td>2017-06-12T15:30:22+0000</td>\n",
       "      <td>Amazing</td>\n",
       "      <td>None</td>\n",
       "    </tr>\n",
       "    <tr>\n",
       "      <th>4</th>\n",
       "      <td>153</td>\n",
       "      <td>2017-06-10T22:41:49+0000</td>\n",
       "      <td>Espectacular el cierre del Hakaton 2017!!!!!! ...</td>\n",
       "      <td>None</td>\n",
       "    </tr>\n",
       "  </tbody>\n",
       "</table>\n",
       "</div>"
      ],
      "text/plain": [
       "   FACEBOOK_COMMENTSPK              CREATED_TIME  \\\n",
       "0                  149  2017-06-11T02:50:24+0000   \n",
       "1                  150  2017-06-11T07:16:36+0000   \n",
       "2                  151  2017-06-11T18:58:12+0000   \n",
       "3                  152  2017-06-12T15:30:22+0000   \n",
       "4                  153  2017-06-10T22:41:49+0000   \n",
       "\n",
       "                                             MESSAGE MESSAGELANGUAGE  \n",
       "0  Felicitaciones al equipo ganador!!#HackatoNave...            None  \n",
       "1                              Felicitaciones !!!!!!            None  \n",
       "2                                              ?????            None  \n",
       "3                                            Amazing            None  \n",
       "4  Espectacular el cierre del Hakaton 2017!!!!!! ...            None  "
      ]
     },
     "execution_count": 34,
     "metadata": {},
     "output_type": "execute_result"
    }
   ],
   "source": [
    "test2 = df_test.copy()\n",
    "test2"
   ]
  },
  {
   "cell_type": "code",
   "execution_count": 45,
   "metadata": {},
   "outputs": [
    {
     "data": {
      "text/html": [
       "<div>\n",
       "<style>\n",
       "    .dataframe thead tr:only-child th {\n",
       "        text-align: right;\n",
       "    }\n",
       "\n",
       "    .dataframe thead th {\n",
       "        text-align: left;\n",
       "    }\n",
       "\n",
       "    .dataframe tbody tr th {\n",
       "        vertical-align: top;\n",
       "    }\n",
       "</style>\n",
       "<table border=\"1\" class=\"dataframe\">\n",
       "  <thead>\n",
       "    <tr style=\"text-align: right;\">\n",
       "      <th></th>\n",
       "      <th>FACEBOOK_COMMENTSPK</th>\n",
       "      <th>CREATED_TIME</th>\n",
       "      <th>MESSAGELANGUAGE</th>\n",
       "      <th>TRANSLATION</th>\n",
       "    </tr>\n",
       "  </thead>\n",
       "  <tbody>\n",
       "    <tr>\n",
       "      <th>0</th>\n",
       "      <td>149</td>\n",
       "      <td>2017-06-11 02:50:24</td>\n",
       "      <td>es</td>\n",
       "      <td>Congratulations to the winning team! # Hackato...</td>\n",
       "    </tr>\n",
       "    <tr>\n",
       "      <th>1</th>\n",
       "      <td>150</td>\n",
       "      <td>2017-06-11 07:16:36</td>\n",
       "      <td>es</td>\n",
       "      <td>Congratulations !!!!!!</td>\n",
       "    </tr>\n",
       "    <tr>\n",
       "      <th>2</th>\n",
       "      <td>151</td>\n",
       "      <td>2017-06-11 18:58:12</td>\n",
       "      <td>en</td>\n",
       "      <td>?????</td>\n",
       "    </tr>\n",
       "    <tr>\n",
       "      <th>3</th>\n",
       "      <td>152</td>\n",
       "      <td>2017-06-12 15:30:22</td>\n",
       "      <td>en</td>\n",
       "      <td>Amazing</td>\n",
       "    </tr>\n",
       "    <tr>\n",
       "      <th>4</th>\n",
       "      <td>153</td>\n",
       "      <td>2017-06-10 22:41:49</td>\n",
       "      <td>es</td>\n",
       "      <td>Spectacular closing of the Hackathon 2017 !!!!...</td>\n",
       "    </tr>\n",
       "  </tbody>\n",
       "</table>\n",
       "</div>"
      ],
      "text/plain": [
       "   FACEBOOK_COMMENTSPK         CREATED_TIME MESSAGELANGUAGE  \\\n",
       "0                  149  2017-06-11 02:50:24              es   \n",
       "1                  150  2017-06-11 07:16:36              es   \n",
       "2                  151  2017-06-11 18:58:12              en   \n",
       "3                  152  2017-06-12 15:30:22              en   \n",
       "4                  153  2017-06-10 22:41:49              es   \n",
       "\n",
       "                                         TRANSLATION  \n",
       "0  Congratulations to the winning team! # Hackato...  \n",
       "1                             Congratulations !!!!!!  \n",
       "2                                              ?????  \n",
       "3                                            Amazing  \n",
       "4  Spectacular closing of the Hackathon 2017 !!!!...  "
      ]
     },
     "execution_count": 45,
     "metadata": {},
     "output_type": "execute_result"
    }
   ],
   "source": [
    "# $ pip install googletrans\n",
    "from googletrans import Translator\n",
    "translator = Translator()\n",
    "test2 = df_test.copy()\n",
    "\n",
    "def detect_language(x):\n",
    "    try:\n",
    "        return str(translator.detect(x.read())).split(',')[0].split('=')[1]\n",
    "    except:\n",
    "        return 'No language detected.'\n",
    "\n",
    "def translate(y):\n",
    "    try:\n",
    "        return str(translator.translate(y.read())).split(',')[2].split('=')[1]\n",
    "    except:\n",
    "        return 'No translation.'\n",
    "\n",
    "def change_time(x):\n",
    "    s = list(x)\n",
    "    s[10] = ' '\n",
    "    del s[-5:]\n",
    "    return \"\".join(s)\n",
    "\n",
    "test2['MESSAGELANGUAGE'] = test2['MESSAGE'].apply(lambda x: detect_language(x))\n",
    "test2['TRANSLATION'] = test2['MESSAGE'].apply(lambda x: translate(x))\n",
    "test2.drop('MESSAGE',axis=1,inplace = True)\n",
    "test2['CREATED_TIME'] = test2['CREATED_TIME'].apply(lambda x: change_time(x))\n",
    "\n",
    "test2"
   ]
  },
  {
   "cell_type": "code",
   "execution_count": null,
   "metadata": {
    "collapsed": true
   },
   "outputs": [],
   "source": [
    "# Facebook posts\n",
    "df2 = pd.read_sql(\"select FB_POST_PK,CREATED_TIME,MESSAGE,MESSAGELANGUAGE from FACEBOOK_POSTS_EDITED\",db)\n",
    "df2.to_csv('facebook_posts_edited.csv', index_label = False)"
   ]
  },
  {
   "cell_type": "code",
   "execution_count": null,
   "metadata": {
    "collapsed": true
   },
   "outputs": [],
   "source": [
    "df.to_csv('test1_full.csv', index_label = False)"
   ]
  }
 ],
 "metadata": {
  "kernelspec": {
   "display_name": "Python 3",
   "language": "python",
   "name": "python3"
  },
  "language_info": {
   "codemirror_mode": {
    "name": "ipython",
    "version": 3
   },
   "file_extension": ".py",
   "mimetype": "text/x-python",
   "name": "python",
   "nbconvert_exporter": "python",
   "pygments_lexer": "ipython3",
   "version": "3.6.3"
  }
 },
 "nbformat": 4,
 "nbformat_minor": 2
}
